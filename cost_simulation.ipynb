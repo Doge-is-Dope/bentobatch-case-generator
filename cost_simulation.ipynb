{
 "cells": [
  {
   "cell_type": "code",
   "execution_count": 1,
   "metadata": {},
   "outputs": [],
   "source": [
    "import os\n",
    "import hashlib\n",
    "from tqdm import tqdm\n",
    "import pandas as pd\n",
    "import matplotlib.pyplot as plt\n",
    "from openai import OpenAI\n",
    "from openai.types.chat import ChatCompletionMessageParam\n",
    "from openai.types import CompletionUsage\n",
    "\n",
    "GPT_MODEL = \"ft:gpt-3.5-turbo-0125:personal::9bNq78hh\""
   ]
  },
  {
   "cell_type": "code",
   "execution_count": 2,
   "metadata": {},
   "outputs": [],
   "source": [
    "from typing import Tuple, Dict, Any\n",
    "\n",
    "\n",
    "client = OpenAI(api_key=os.environ[\"OPENAI_API_KEY\"])\n",
    "\n",
    "system_prompt = \"\"\"\n",
    "    You will be presented with a user intent, and your task is to extract the useful information and output it in JSON format as shown below:\n",
    "\n",
    "    ```json\n",
    "    {\n",
    "    \"action\": \"transfer\",\n",
    "    \"chain\": \"Ethereum\",\n",
    "    \"amount\": \"12\",\n",
    "    \"token\": \"ETH\",\n",
    "    \"receiver\": \"trump.eth\"\n",
    "    }\n",
    "    ```\n",
    "\n",
    "    If the intent is unknown, just say “I don't know”.\n",
    "\"\"\"\n",
    "\n",
    "\n",
    "def parse(intent: str) -> Tuple[str | None, CompletionUsage | None]:\n",
    "    \"\"\"\n",
    "    Parse the user intent and return the extracted information in JSON format.\n",
    "    \"\"\"\n",
    "    messages: list[ChatCompletionMessageParam] = [\n",
    "        {\"role\": \"system\", \"content\": system_prompt},\n",
    "        {\"role\": \"user\", \"content\": intent},\n",
    "    ]\n",
    "    response = client.chat.completions.create(\n",
    "        model=GPT_MODEL, messages=messages, temperature=0.7, max_tokens=500\n",
    "    )\n",
    "    result = response.choices[0].message.content\n",
    "    return result, response.usage\n",
    "\n",
    "\n",
    "def hash_output(message: str | None) -> str:\n",
    "    \"\"\"\n",
    "    Hash the output message using MD5.\n",
    "    \"\"\"\n",
    "    assert message is not None, \"Message should not be None\"\n",
    "    md5_hash = hashlib.md5()\n",
    "    md5_hash.update(message.encode())\n",
    "    md5_hex = md5_hash.hexdigest()\n",
    "    return md5_hex\n",
    "\n",
    "\n",
    "# GPT-3.5 turbo model\n",
    "# Training: $8.00 / 1M tokens\n",
    "# Input: $3.00 / 1M tokens\n",
    "# Output: $6.00 / 1M tokens\n",
    "cost_per_input_token = 3.0 / 1e6\n",
    "cost_per_output_token = 6.0 / 1e6\n",
    "\n",
    "\n",
    "def calculate_pricing(usage: CompletionUsage | None) -> Tuple[int, float]:\n",
    "    \"\"\"\n",
    "    Calculate the pricing for the current API usage.\n",
    "    \"\"\"\n",
    "    assert usage is not None, \"Usage should not be None\"\n",
    "    input_tokens = usage.prompt_tokens\n",
    "    output_tokens = usage.completion_tokens\n",
    "    # Calculate the price\n",
    "    total_tokens = input_tokens + output_tokens\n",
    "    price = cost_per_input_token * input_tokens + cost_per_output_token * output_tokens\n",
    "    rounded_price = round(price, 6)\n",
    "    return total_tokens, rounded_price"
   ]
  },
  {
   "cell_type": "code",
   "execution_count": 3,
   "metadata": {},
   "outputs": [],
   "source": [
    "prompt = (\n",
    "    \"I want to approve spending of 10 USDC to trump.eth and send 10 USDT to biden.eth.\"\n",
    ")\n",
    "\n",
    "\n",
    "def run_simulation(num_iterations):\n",
    "    results = []\n",
    "\n",
    "    for _ in tqdm(range(num_iterations), desc=\"Running Simulation\"):\n",
    "        result, usage = parse(prompt)\n",
    "        hash_value = hash_output(result)\n",
    "        tokens, price = calculate_pricing(usage)\n",
    "        results.append(\n",
    "            {\n",
    "                \"hash\": hash_value,\n",
    "                \"price\": price,\n",
    "                \"tokens\": tokens,\n",
    "                \"price\": price,\n",
    "                \"result\": result,\n",
    "            }\n",
    "        )\n",
    "\n",
    "    df = pd.DataFrame(results)\n",
    "    return df"
   ]
  },
  {
   "cell_type": "code",
   "execution_count": 4,
   "metadata": {},
   "outputs": [
    {
     "name": "stderr",
     "output_type": "stream",
     "text": [
      "Running Simulation: 100%|██████████| 2000/2000 [45:38<00:00,  1.37s/it]"
     ]
    },
    {
     "name": "stdout",
     "output_type": "stream",
     "text": [
      "                               hash     price  tokens  \\\n",
      "0  22b3709e21878139fa5d30248b08d737  0.000825     203   \n",
      "1  22b3709e21878139fa5d30248b08d737  0.000825     203   \n",
      "2  22b3709e21878139fa5d30248b08d737  0.000825     203   \n",
      "3  22b3709e21878139fa5d30248b08d737  0.000825     203   \n",
      "4  22b3709e21878139fa5d30248b08d737  0.000825     203   \n",
      "\n",
      "                                              result  \n",
      "0  [{\"action\": \"approve\", \"chain\": \"Ethereum\", \"a...  \n",
      "1  [{\"action\": \"approve\", \"chain\": \"Ethereum\", \"a...  \n",
      "2  [{\"action\": \"approve\", \"chain\": \"Ethereum\", \"a...  \n",
      "3  [{\"action\": \"approve\", \"chain\": \"Ethereum\", \"a...  \n",
      "4  [{\"action\": \"approve\", \"chain\": \"Ethereum\", \"a...  \n"
     ]
    },
    {
     "name": "stderr",
     "output_type": "stream",
     "text": [
      "\n"
     ]
    }
   ],
   "source": [
    "df = run_simulation(2_000)\n",
    "print(df.head())"
   ]
  },
  {
   "cell_type": "code",
   "execution_count": 5,
   "metadata": {},
   "outputs": [
    {
     "name": "stdout",
     "output_type": "stream",
     "text": [
      "Total Price: $1.65\n"
     ]
    }
   ],
   "source": [
    "total_price = df[\"price\"].sum()\n",
    "print(f\"Total Price: ${total_price:.2f}\")"
   ]
  },
  {
   "cell_type": "code",
   "execution_count": 6,
   "metadata": {},
   "outputs": [
    {
     "data": {
      "image/png": "[encoded data removed]",
      "text/plain": [
       "<Figure size 640x480 with 1 Axes>"
      ]
     },
     "metadata": {},
     "output_type": "display_data"
    }
   ],
   "source": [
    "plt.scatter(df.index, df[\"hash\"], label=\"Hash\")\n",
    "plt.show()"
   ]
  },
  {
   "cell_type": "code",
   "execution_count": 11,
   "metadata": {},
   "outputs": [
    {
     "name": "stdout",
     "output_type": "stream",
     "text": [
      "Number of outliers in 'hash': 16 among 2000 samples\n",
      "outliers ratio: 0.008\n"
     ]
    }
   ],
   "source": [
    "mode_value = df[\"hash\"].mode()[0]\n",
    "# Identify outliers\n",
    "outliers = df[df[\"hash\"] != mode_value]\n",
    "# Count outliers\n",
    "outlier_count = outliers.shape[0]\n",
    "\n",
    "print(f\"Number of outliers in 'hash': {outlier_count} among {df.shape[0]} samples\")\n",
    "print(f\"outliers ratio: {outlier_count / df.shape[0]:.3f}\")"
   ]
  },
  {
   "cell_type": "code",
   "execution_count": 28,
   "metadata": {},
   "outputs": [
    {
     "name": "stdout",
     "output_type": "stream",
     "text": [
      "Numbers of Outlier a6aefe1c918c628aaf27f1be6d66571a: 6\n",
      "Outlier a6aefe1c918c628aaf27f1be6d66571a result:\n",
      "[{\"action\": \"transfer\", \"chain\": \"Ethereum\", \"amount\": \"10\", \"token\": \"USDC\", \"receiver\": \"trump.eth\"}, {\"action\": \"transfer\", \"chain\": \"Ethereum\", \"amount\": \"10\", \"token\": \"USDT\", \"receiver\": \"biden.eth\"}]\n",
      "Numbers of Outlier a79e1a3a4b69b02f8cade207e615594c: 10\n",
      "Outlier a79e1a3a4b69b02f8cade207e615594c result:\n",
      "[{\"action\": \"transfer\", \"chain\": \"Ethereum\", \"amount\": \"10\", \"token\": \"USDT\", \"receiver\": \"biden.eth\"}, {\"action\": \"approve\", \"chain\": \"Ethereum\", \"amount\": \"10\", \"token\": \"USDC\", \"spender\": \"trump.eth\"}]\n"
     ]
    }
   ],
   "source": [
    "outlier1 = \"a6aefe1c918c628aaf27f1be6d66571a\"\n",
    "outlier1_df = df[df[\"hash\"] == outlier1]\n",
    "print(f\"Numbers of Outlier {outlier1}: {outlier1_df.shape[0]}\")\n",
    "print(f\"Outlier {outlier1} result:\\n{outlier1_df['result'].values[0]}\")\n",
    "\n",
    "outlier2 = \"a79e1a3a4b69b02f8cade207e615594c\"\n",
    "outlier2_df = df[df[\"hash\"] == outlier2]\n",
    "print(f\"Numbers of Outlier {outlier2}: {outlier2_df.shape[0]}\")\n",
    "print(f\"Outlier {outlier2} result:\\n{outlier2_df['result'].values[0]}\")"
   ]
  },
  {
   "cell_type": "code",
   "execution_count": 26,
   "metadata": {},
   "outputs": [],
   "source": [
    "df.to_csv(\"processed/simulation_result.csv\")"
   ]
  }
 ],
 "metadata": {
  "kernelspec": {
   "display_name": "env",
   "language": "python",
   "name": "python3"
  },
  "language_info": {
   "codemirror_mode": {
    "name": "ipython",
    "version": 3
   },
   "file_extension": ".py",
   "mimetype": "text/x-python",
   "name": "python",
   "nbconvert_exporter": "python",
   "pygments_lexer": "ipython3",
   "version": "3.12.3"
  }
 },
 "nbformat": 4,
 "nbformat_minor": 2
}
