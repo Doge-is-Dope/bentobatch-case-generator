{
 "cells": [
  {
   "cell_type": "code",
   "execution_count": 1,
   "metadata": {},
   "outputs": [],
   "source": [
    "# import libraries\n",
    "import os\n",
    "import re\n",
    "import pandas as pd  # for storing text and embeddings data\n",
    "import matplotlib.pyplot as plt\n",
    "from openai import OpenAI  # for calling the OpenAI API\n",
    "from openai.types.chat import ChatCompletionMessageParam\n",
    "import tiktoken  # for counting tokens\n",
    "from utils.embeddings_utils import cosine_similarity, get_embedding\n",
    "\n",
    "\n",
    "# EMBEDDING_MODEL = \"text-embedding-3-small\"\n",
    "# 3-small is broken, so we use ada-002 instead\n",
    "EMBEDDING_MODEL = \"text-embedding-ada-002\"\n",
    "GPT_MODEL = \"gpt-3.5-turbo\"\n",
    "\n",
    "client = OpenAI(api_key=os.environ[\"OPENAI_API_KEY\"])"
   ]
  },
  {
   "cell_type": "code",
   "execution_count": 2,
   "metadata": {},
   "outputs": [],
   "source": [
    "OUTPUT_PATH = \"processed/embeddings/case.csv\"\n",
    "\n",
    "directory = os.path.dirname(OUTPUT_PATH)\n",
    "if not os.path.exists(directory):\n",
    "    os.makedirs(directory)"
   ]
  },
  {
   "cell_type": "code",
   "execution_count": 3,
   "metadata": {},
   "outputs": [
    {
     "name": "stdout",
     "output_type": "stream",
     "text": [
      "Data shape: (44, 2)\n"
     ]
    }
   ],
   "source": [
    "def parse_directory(base_dir):\n",
    "    data = []\n",
    "    pattern = re.compile(r\"[a-zA-Z0-9]+_[a-zA-Z0-9\\-]+$\")\n",
    "\n",
    "    for root, dirs, files in os.walk(base_dir):\n",
    "        for dir_name in dirs:\n",
    "            if not pattern.match(dir_name):\n",
    "                continue  # Skip directories not matching the pattern. e.g. ___prebuilt-tx\n",
    "            dir_path = os.path.join(root, dir_name)\n",
    "            network, case = dir_name.split(\"_\")\n",
    "            index_ts_path = os.path.join(dir_path, \"index.ts\")\n",
    "            index_details_ts_path = os.path.join(dir_path, \"index.details.ts\")\n",
    "\n",
    "            index_data = \"\"\n",
    "            details_data = \"\"\n",
    "\n",
    "            if os.path.exists(index_ts_path):\n",
    "                with open(index_ts_path, \"r\") as index_file:\n",
    "                    index_data = index_file.read().strip()\n",
    "\n",
    "            if os.path.exists(index_details_ts_path):\n",
    "                with open(index_details_ts_path, \"r\") as details_file:\n",
    "                    details_data = details_file.read().strip()\n",
    "\n",
    "            data.append(\n",
    "                {\n",
    "                    \"case\": case.replace(\"-\", \"_\"),\n",
    "                    \"text\": f\"{case}. {network}. {index_data}. {details_data}\",\n",
    "                }\n",
    "            )\n",
    "    return data\n",
    "\n",
    "\n",
    "data = parse_directory(\"case/\")\n",
    "df = pd.DataFrame(data)\n",
    "df.to_csv(OUTPUT_PATH)\n",
    "print(f\"Data shape: {df.shape}\")"
   ]
  },
  {
   "cell_type": "code",
   "execution_count": 4,
   "metadata": {},
   "outputs": [
    {
     "data": {
      "text/html": [
       "<div>\n",
       "<style scoped>\n",
       "    .dataframe tbody tr th:only-of-type {\n",
       "        vertical-align: middle;\n",
       "    }\n",
       "\n",
       "    .dataframe tbody tr th {\n",
       "        vertical-align: top;\n",
       "    }\n",
       "\n",
       "    .dataframe thead th {\n",
       "        text-align: right;\n",
       "    }\n",
       "</style>\n",
       "<table border=\"1\" class=\"dataframe\">\n",
       "  <thead>\n",
       "    <tr style=\"text-align: right;\">\n",
       "      <th></th>\n",
       "      <th>case</th>\n",
       "      <th>text</th>\n",
       "    </tr>\n",
       "  </thead>\n",
       "  <tbody>\n",
       "    <tr>\n",
       "      <th>0</th>\n",
       "      <td>multi_sender</td>\n",
       "      <td>multi-sender. polygon. import type { Abi } fro...</td>\n",
       "    </tr>\n",
       "    <tr>\n",
       "      <th>1</th>\n",
       "      <td>zircuit_eigenpie_swell</td>\n",
       "      <td>zircuit-eigenpie-swell. ethereum. import type ...</td>\n",
       "    </tr>\n",
       "    <tr>\n",
       "      <th>2</th>\n",
       "      <td>genesis_liquidity</td>\n",
       "      <td>genesis-liquidity. ethereum. import type { Abi...</td>\n",
       "    </tr>\n",
       "    <tr>\n",
       "      <th>3</th>\n",
       "      <td>yearn_v3_usdt</td>\n",
       "      <td>yearn-v3-usdt. polygon. import type { Abi, Add...</td>\n",
       "    </tr>\n",
       "    <tr>\n",
       "      <th>4</th>\n",
       "      <td>pendle_points</td>\n",
       "      <td>pendle-points. arbitrum. import { BatchCase, C...</td>\n",
       "    </tr>\n",
       "  </tbody>\n",
       "</table>\n",
       "</div>"
      ],
      "text/plain": [
       "                     case                                               text\n",
       "0            multi_sender  multi-sender. polygon. import type { Abi } fro...\n",
       "1  zircuit_eigenpie_swell  zircuit-eigenpie-swell. ethereum. import type ...\n",
       "2       genesis_liquidity  genesis-liquidity. ethereum. import type { Abi...\n",
       "3           yearn_v3_usdt  yearn-v3-usdt. polygon. import type { Abi, Add...\n",
       "4           pendle_points  pendle-points. arbitrum. import { BatchCase, C..."
      ]
     },
     "execution_count": 4,
     "metadata": {},
     "output_type": "execute_result"
    }
   ],
   "source": [
    "def remove_newlines(serie):\n",
    "    \"\"\"\n",
    "    Remove newlines from a pandas series for better processing.\n",
    "    \"\"\"\n",
    "    serie = serie.str.replace(\"\\n\", \" \")\n",
    "    serie = serie.str.replace(\"\\\\n\", \" \")\n",
    "    serie = serie.str.replace(\"  \", \" \")\n",
    "    serie = serie.str.replace(\"  \", \" \")\n",
    "    return serie\n",
    "\n",
    "\n",
    "df[\"text\"] = remove_newlines(df[\"text\"])  # remove newlines for better embeddings\n",
    "df.to_csv(OUTPUT_PATH)\n",
    "df.head()"
   ]
  },
  {
   "cell_type": "markdown",
   "metadata": {},
   "source": [
    "# Show histogram of the tokens in the text\n"
   ]
  },
  {
   "cell_type": "code",
   "execution_count": 5,
   "metadata": {},
   "outputs": [
    {
     "data": {
      "text/plain": [
       "Text(0.5, 1.0, 'Histogram of Number of Tokens')"
      ]
     },
     "execution_count": 5,
     "metadata": {},
     "output_type": "execute_result"
    },
    {
     "data": {
      "image/png": "[encoded data removed]",
      "text/plain": [
       "<Figure size 640x480 with 1 Axes>"
      ]
     },
     "metadata": {},
     "output_type": "display_data"
    }
   ],
   "source": [
    "# Initialize the tokenizer\n",
    "encoding_name = tiktoken.encoding_name_for_model(EMBEDDING_MODEL)\n",
    "tokenizer = tiktoken.get_encoding(encoding_name)\n",
    "\n",
    "df = pd.read_csv(OUTPUT_PATH, index_col=0)\n",
    "df.columns = [\"case\", \"text\"]\n",
    "\n",
    "# Tokenize the text and save the number of tokens to a new column\n",
    "df[\"n_tokens\"] = df[\"text\"].apply(lambda x: len(tokenizer.encode(x)))\n",
    "\n",
    "# Visualize the distribution of the number of tokens per row using a histogram\n",
    "df.n_tokens.hist()\n",
    "plt.xlabel(\"Number of Tokens\")\n",
    "plt.ylabel(\"Frequency\")\n",
    "plt.title(\"Histogram of Number of Tokens\")"
   ]
  },
  {
   "cell_type": "markdown",
   "metadata": {},
   "source": [
    "# Create embeddings\n"
   ]
  },
  {
   "cell_type": "code",
   "execution_count": 6,
   "metadata": {},
   "outputs": [
    {
     "data": {
      "text/html": [
       "<div>\n",
       "<style scoped>\n",
       "    .dataframe tbody tr th:only-of-type {\n",
       "        vertical-align: middle;\n",
       "    }\n",
       "\n",
       "    .dataframe tbody tr th {\n",
       "        vertical-align: top;\n",
       "    }\n",
       "\n",
       "    .dataframe thead th {\n",
       "        text-align: right;\n",
       "    }\n",
       "</style>\n",
       "<table border=\"1\" class=\"dataframe\">\n",
       "  <thead>\n",
       "    <tr style=\"text-align: right;\">\n",
       "      <th></th>\n",
       "      <th>case</th>\n",
       "      <th>text</th>\n",
       "      <th>n_tokens</th>\n",
       "      <th>text_embedding</th>\n",
       "    </tr>\n",
       "  </thead>\n",
       "  <tbody>\n",
       "    <tr>\n",
       "      <th>0</th>\n",
       "      <td>multi_sender</td>\n",
       "      <td>multi-sender. polygon. import type { Abi } fro...</td>\n",
       "      <td>1889</td>\n",
       "      <td>[0.004503462463617325, 0.00693918764591217, -0...</td>\n",
       "    </tr>\n",
       "    <tr>\n",
       "      <th>1</th>\n",
       "      <td>zircuit_eigenpie_swell</td>\n",
       "      <td>zircuit-eigenpie-swell. ethereum. import type ...</td>\n",
       "      <td>3583</td>\n",
       "      <td>[0.01974830962717533, 0.0014942557318136096, 0...</td>\n",
       "    </tr>\n",
       "    <tr>\n",
       "      <th>2</th>\n",
       "      <td>genesis_liquidity</td>\n",
       "      <td>genesis-liquidity. ethereum. import type { Abi...</td>\n",
       "      <td>4817</td>\n",
       "      <td>[0.01786457933485508, 0.013659048825502396, -0...</td>\n",
       "    </tr>\n",
       "    <tr>\n",
       "      <th>3</th>\n",
       "      <td>yearn_v3_usdt</td>\n",
       "      <td>yearn-v3-usdt. polygon. import type { Abi, Add...</td>\n",
       "      <td>2234</td>\n",
       "      <td>[-0.003186991438269615, -0.0048324489034712315...</td>\n",
       "    </tr>\n",
       "    <tr>\n",
       "      <th>4</th>\n",
       "      <td>pendle_points</td>\n",
       "      <td>pendle-points. arbitrum. import { BatchCase, C...</td>\n",
       "      <td>2372</td>\n",
       "      <td>[0.02143111638724804, 0.01149719674140215, -0....</td>\n",
       "    </tr>\n",
       "  </tbody>\n",
       "</table>\n",
       "</div>"
      ],
      "text/plain": [
       "                     case                                               text  \\\n",
       "0            multi_sender  multi-sender. polygon. import type { Abi } fro...   \n",
       "1  zircuit_eigenpie_swell  zircuit-eigenpie-swell. ethereum. import type ...   \n",
       "2       genesis_liquidity  genesis-liquidity. ethereum. import type { Abi...   \n",
       "3           yearn_v3_usdt  yearn-v3-usdt. polygon. import type { Abi, Add...   \n",
       "4           pendle_points  pendle-points. arbitrum. import { BatchCase, C...   \n",
       "\n",
       "   n_tokens                                     text_embedding  \n",
       "0      1889  [0.004503462463617325, 0.00693918764591217, -0...  \n",
       "1      3583  [0.01974830962717533, 0.0014942557318136096, 0...  \n",
       "2      4817  [0.01786457933485508, 0.013659048825502396, -0...  \n",
       "3      2234  [-0.003186991438269615, -0.0048324489034712315...  \n",
       "4      2372  [0.02143111638724804, 0.01149719674140215, -0....  "
      ]
     },
     "execution_count": 6,
     "metadata": {},
     "output_type": "execute_result"
    }
   ],
   "source": [
    "df[\"text_embedding\"] = df[\"text\"].apply(\n",
    "    lambda x: get_embedding(text=x, model=EMBEDDING_MODEL)\n",
    ")\n",
    "\n",
    "df.to_csv(OUTPUT_PATH)\n",
    "df.head()"
   ]
  },
  {
   "cell_type": "markdown",
   "metadata": {},
   "source": [
    "# Find relevant embeddings\n"
   ]
  },
  {
   "cell_type": "code",
   "execution_count": 7,
   "metadata": {},
   "outputs": [],
   "source": [
    "def search(df, query, top_n=5):\n",
    "    query_embedding = get_embedding(text=query, model=EMBEDDING_MODEL)\n",
    "\n",
    "    def calculate_similarity(row):\n",
    "        return (\n",
    "            cosine_similarity(query_embedding, row[\"text_embedding\"]),\n",
    "            row[\"case\"],\n",
    "            row[\"text\"],\n",
    "        )\n",
    "\n",
    "    case_to_score_list = [calculate_similarity(row) for _, row in df.iterrows()]\n",
    "    case_to_score_list.sort(key=lambda x: x[0], reverse=True)\n",
    "    top_cases = case_to_score_list[:top_n]\n",
    "    return top_cases\n",
    "\n",
    "\n",
    "def print_search_results_pretty(result):\n",
    "    for score, case, text in result:\n",
    "        print(f\"Score: {score.round(4)}\")\n",
    "        print(f\"Case: {case}\")\n",
    "        print(f\"Code: {text[:100]}...\")\n",
    "        print(\"-\" * 70)  # separator"
   ]
  },
  {
   "cell_type": "markdown",
   "metadata": {},
   "source": [
    "# Examples\n"
   ]
  },
  {
   "cell_type": "code",
   "execution_count": 8,
   "metadata": {},
   "outputs": [
    {
     "name": "stdout",
     "output_type": "stream",
     "text": [
      "Score: 0.8248\n",
      "Case: yearn_v3_usdt\n",
      "Code: yearn-v3-usdt. polygon. import type { Abi, Address } from \"abitype\"; import { Chain, polygon } from ...\n",
      "----------------------------------------------------------------------\n",
      "Score: 0.8104\n",
      "Case: yearn_v3_usdce\n",
      "Code: yearn-v3-usdce. polygon. import type { Abi, Address } from \"abitype\"; import { Chain, polygon } from...\n",
      "----------------------------------------------------------------------\n",
      "Score: 0.8101\n",
      "Case: yearn_v3_dai\n",
      "Code: yearn-v3-dai. polygon. import type { Abi, Address } from \"abitype\"; import { Chain, polygon } from \"...\n",
      "----------------------------------------------------------------------\n"
     ]
    }
   ],
   "source": [
    "result = search(df, \"Deposit USDT to Yearn finance's V3 Vault.\", top_n=3)\n",
    "print_search_results_pretty(result)"
   ]
  },
  {
   "cell_type": "code",
   "execution_count": 9,
   "metadata": {},
   "outputs": [
    {
     "name": "stdout",
     "output_type": "stream",
     "text": [
      "Score: 0.8097\n",
      "Case: yearn_v3_usdce\n",
      "Code: yearn-v3-usdce. polygon. import type { Abi, Address } from \"abitype\"; import { Chain, polygon } from...\n",
      "----------------------------------------------------------------------\n",
      "Score: 0.8067\n",
      "Case: yearn_v3_usdt\n",
      "Code: yearn-v3-usdt. polygon. import type { Abi, Address } from \"abitype\"; import { Chain, polygon } from ...\n",
      "----------------------------------------------------------------------\n",
      "Score: 0.7944\n",
      "Case: yearn_v3_weth\n",
      "Code: yearn-v3-weth. polygon. import type { Abi, Address } from \"abitype\"; import { Chain, polygon } from ...\n",
      "----------------------------------------------------------------------\n"
     ]
    }
   ],
   "source": [
    "result = search(df, \"yearn_v3_usdce\", top_n=3)\n",
    "print_search_results_pretty(result)"
   ]
  },
  {
   "cell_type": "markdown",
   "metadata": {},
   "source": [
    "# Use GPT to extract information\n"
   ]
  },
  {
   "cell_type": "code",
   "execution_count": 10,
   "metadata": {},
   "outputs": [],
   "source": [
    "def num_tokens(text: str, model: str = GPT_MODEL) -> int:\n",
    "    \"\"\"\n",
    "    Return the number of tokens in a string.\n",
    "    \"\"\"\n",
    "    encoding = tiktoken.encoding_for_model(model)\n",
    "    return len(encoding.encode(text))\n",
    "\n",
    "\n",
    "def answer(question: str, df: pd.DataFrame = df, model: str = GPT_MODEL):\n",
    "    \"\"\"\n",
    "    Answers a query based on the context in the dataframe.\n",
    "    \"\"\"\n",
    "    related_text = [text for _, _, text in search(df=df, query=question, top_n=5)]\n",
    "    context = \"\\n\\n###\\n\\n\".join(related_text)\n",
    "\n",
    "    messages: list[ChatCompletionMessageParam] = [\n",
    "        {\n",
    "            \"role\": \"system\",\n",
    "            \"content\": \"Answer the question based on the context below, and if the question can't be answered based on the context, say \\\"I don't have the info.\\\"\\n\\n\",\n",
    "        },\n",
    "        {\n",
    "            \"role\": \"user\",\n",
    "            \"content\": f\"Context: {context}\\n\\n---\\n\\nQuestion: {question}\\nAnswer:\",\n",
    "        },\n",
    "    ]\n",
    "    response = client.chat.completions.create(\n",
    "        model=model, messages=messages, temperature=0\n",
    "    )\n",
    "    return response.choices[0].message.content"
   ]
  },
  {
   "cell_type": "code",
   "execution_count": 11,
   "metadata": {},
   "outputs": [
    {
     "data": {
      "text/plain": [
       "'The purpose of the `yearn_v3_usdce` contract is to facilitate yield farming on Yearn with USDC.e by allowing users to deposit USDC.e to Yearn finance’s V3 Vault, auto compound, and yield high APY% with USDC.e.'"
      ]
     },
     "execution_count": 11,
     "metadata": {},
     "output_type": "execute_result"
    }
   ],
   "source": [
    "answer(\"What is the purpose of the yearn_v3_usdce contract?\")"
   ]
  },
  {
   "cell_type": "code",
   "execution_count": 12,
   "metadata": {},
   "outputs": [
    {
     "data": {
      "text/plain": [
       "'The contract address of yearn_v3_usdce is \"0xA013Fbd4b711f9ded6fB09C1c0d358E2FbC2EAA0\".'"
      ]
     },
     "execution_count": 12,
     "metadata": {},
     "output_type": "execute_result"
    }
   ],
   "source": [
    "answer(\"What contract address of yearn_v3_usdce?\")"
   ]
  },
  {
   "cell_type": "code",
   "execution_count": 13,
   "metadata": {},
   "outputs": [
    {
     "data": {
      "text/plain": [
       "'You can deposit your USDC to borrow ETH on AAVE, swap USDC to USDe and stake on Zircuit, or swap USDC to USDe and provide LP on Pendle to earn high APY and Ethena sats.'"
      ]
     },
     "execution_count": 13,
     "metadata": {},
     "output_type": "execute_result"
    }
   ],
   "source": [
    "answer(\"What can i do with my USDC?\")"
   ]
  }
 ],
 "metadata": {
  "kernelspec": {
   "display_name": "env",
   "language": "python",
   "name": "python3"
  },
  "language_info": {
   "codemirror_mode": {
    "name": "ipython",
    "version": 3
   },
   "file_extension": ".py",
   "mimetype": "text/x-python",
   "name": "python",
   "nbconvert_exporter": "python",
   "pygments_lexer": "ipython3",
   "version": "3.12.3"
  }
 },
 "nbformat": 4,
 "nbformat_minor": 2
}
