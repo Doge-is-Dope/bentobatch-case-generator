{
 "cells": [
  {
   "cell_type": "markdown",
   "metadata": {},
   "source": [
    "# Environment\n"
   ]
  },
  {
   "cell_type": "code",
   "execution_count": 1,
   "metadata": {},
   "outputs": [],
   "source": [
    "# import libraries\n",
    "import os\n",
    "import pandas as pd  # for storing text and embeddings data\n",
    "from openai import OpenAI  # for calling the OpenAI API\n",
    "from openai.types.chat import ChatCompletionMessageParam\n",
    "from tenacity import (\n",
    "    retry,\n",
    "    wait_random_exponential,\n",
    "    stop_after_attempt,\n",
    ")  # for retrying API calls\n",
    "import tiktoken  # for counting tokens\n",
    "from utils.embeddings_utils import cosine_similarity\n",
    "\n",
    "# models\n",
    "EMBEDDING_MODEL = \"text-embedding-3-large\"\n",
    "GPT_MODEL = \"ft:gpt-3.5-turbo-0125:personal:transfer-0613:9ZWWwDJS\""
   ]
  },
  {
   "cell_type": "code",
   "execution_count": 2,
   "metadata": {},
   "outputs": [],
   "source": [
    "client = OpenAI(api_key=os.environ[\"OPENAI_API_KEY\"])"
   ]
  },
  {
   "cell_type": "markdown",
   "metadata": {},
   "source": [
    "# Intent Parsing\n"
   ]
  },
  {
   "cell_type": "code",
   "execution_count": 3,
   "metadata": {},
   "outputs": [],
   "source": [
    "system_prompt = \"\"\"\n",
    "    You will be presented with a user intent, and your task is to extract the useful information and output it in JSON format as shown below:\n",
    "\n",
    "    ```json\n",
    "    {\n",
    "    \"action\": \"transfer\",\n",
    "    \"chain\": \"Ethereum\",\n",
    "    \"amount\": \"12\",\n",
    "    \"token\": \"ETH\",\n",
    "    \"receiver\": \"trump.eth\"\n",
    "    }\n",
    "    ```\n",
    "\n",
    "    If the intent is unknown, just say “I don't know”.\n",
    "\"\"\"\n",
    "\n",
    "\n",
    "def parse(intent: str):\n",
    "    \"\"\"\n",
    "    Parse the user intent and return the extracted information in JSON format.\n",
    "    \"\"\"\n",
    "    messages: list[ChatCompletionMessageParam] = [\n",
    "        {\"role\": \"system\", \"content\": system_prompt},\n",
    "        {\"role\": \"user\", \"content\": intent},\n",
    "    ]\n",
    "    response = client.chat.completions.create(\n",
    "        model=GPT_MODEL, messages=messages, temperature=0.7, max_tokens=500\n",
    "    )\n",
    "    return response.choices[0].message.content"
   ]
  },
  {
   "cell_type": "code",
   "execution_count": 4,
   "metadata": {},
   "outputs": [
    {
     "data": {
      "text/plain": [
       "'[{\"action\": \"transfer\", \"chain\": \"Blast\", \"amount\": \"12\", \"token\": \"ETH\", \"receiver\": \"trump.eth\"}]'"
      ]
     },
     "execution_count": 4,
     "metadata": {},
     "output_type": "execute_result"
    }
   ],
   "source": [
    "parse(\"I want to transfer 12 ETH to trump.eth on Blast.\")"
   ]
  },
  {
   "cell_type": "code",
   "execution_count": 5,
   "metadata": {},
   "outputs": [
    {
     "data": {
      "text/plain": [
       "'[{\"action\": \"transfer\", \"chain\": \"Ethereum\", \"amount\": \"12\", \"token\": \"DOGE\", \"receiver\": \"0x436f795B64E23E6cE7792af4923A68AFD3967952\"}]'"
      ]
     },
     "execution_count": 5,
     "metadata": {},
     "output_type": "execute_result"
    }
   ],
   "source": [
    "parse(\"Send 12 DOGE to 0x436f795B64E23E6cE7792af4923A68AFD3967952 on Ethereum.\")"
   ]
  },
  {
   "cell_type": "code",
   "execution_count": 6,
   "metadata": {},
   "outputs": [
    {
     "data": {
      "text/plain": [
       "'[{\"action\": \"transfer\", \"chain\": \"Optimism\", \"amount\": \"12\", \"token\": \"PEPE\", \"receiver\": \"apple.eth\"}, {\"action\": \"transfer\", \"chain\": \"Optimism\", \"amount\": \"10\", \"token\": \"USDC\", \"receiver\": \"apple.eth\"}]'"
      ]
     },
     "execution_count": 6,
     "metadata": {},
     "output_type": "execute_result"
    }
   ],
   "source": [
    "parse(\"Send 12 PEPE and 10 USDC to apple.eth on Optimism.\")"
   ]
  },
  {
   "cell_type": "code",
   "execution_count": 7,
   "metadata": {},
   "outputs": [
    {
     "data": {
      "text/plain": [
       "'[{\"action\": \"transfer\", \"chain\": \"Gnosis\", \"amount\": \"12\", \"token\": \"PEPE\", \"receiver\": \"apple.eth\"}, {\"action\": \"transfer\", \"chain\": \"Gnosis\", \"amount\": \"10\", \"token\": \"USDT\", \"receiver\": \"banana.eth\"}]'"
      ]
     },
     "execution_count": 7,
     "metadata": {},
     "output_type": "execute_result"
    }
   ],
   "source": [
    "parse(\"Send 12 PEPE to apple.eth and 10 USDT to banana.eth on Gnosis.\")"
   ]
  },
  {
   "cell_type": "code",
   "execution_count": 8,
   "metadata": {},
   "outputs": [
    {
     "data": {
      "text/plain": [
       "'[{\"action\": \"transfer\", \"chain\": \"Ethereum\", \"amount\": \"5\", \"token\": \"USDC\", \"receiver\": \"biden.eth\"}, {\"action\": \"transfer\", \"chain\": \"Ethereum\", \"amount\": \"5\", \"token\": \"USDC\", \"receiver\": \"trump.eth\"}]'"
      ]
     },
     "execution_count": 8,
     "metadata": {},
     "output_type": "execute_result"
    }
   ],
   "source": [
    "parse(\"Split 10 USDC and send equally to biden.eth and trump.eth on Ethereum.\")"
   ]
  },
  {
   "cell_type": "code",
   "execution_count": 9,
   "metadata": {},
   "outputs": [
    {
     "data": {
      "text/plain": [
       "'[{\"action\": \"transfer\", \"chain\": \"Ethereum\", \"amount\": \"10\", \"token\": \"USDC\", \"receiver\": \"vitalik.eth\"}, {\"action\": \"transfer\", \"chain\": \"Base\", \"amount\": \"10\", \"token\": \"USDC\", \"receiver\": \"armstrong.eth\"}, {\"action\": \"transfer\", \"chain\": \"BNB\", \"amount\": \"4\", \"token\": \"USDC\", \"receiver\": \"cz-binance.eth\"}]'"
      ]
     },
     "execution_count": 9,
     "metadata": {},
     "output_type": "execute_result"
    }
   ],
   "source": [
    "parse(\n",
    "    \"Send 10 USDC to vitalik.eth on Ethereum, 10 USDC to armstrong.eth on Base and 4 USDC to cz-binance.eth on BNB Chain.\"\n",
    ")"
   ]
  },
  {
   "cell_type": "code",
   "execution_count": 10,
   "metadata": {},
   "outputs": [
    {
     "data": {
      "text/plain": [
       "'[{\"action\": \"transfer\", \"chain\": \"Ethereum\", \"amount\": \"10\", \"token\": \"0xA0b86991c6218b36c1d19D4a2e9Eb0cE3606eB48\", \"receiver\": \"vitalik.eth\"}]'"
      ]
     },
     "execution_count": 10,
     "metadata": {},
     "output_type": "execute_result"
    }
   ],
   "source": [
    "parse(\"Send 10 0xA0b86991c6218b36c1d19D4a2e9Eb0cE3606eB48 to vitalik.eth on Ethereum\")"
   ]
  },
  {
   "cell_type": "markdown",
   "metadata": {},
   "source": [
    "# Offline Outputs Generation\n"
   ]
  },
  {
   "cell_type": "code",
   "execution_count": 11,
   "metadata": {},
   "outputs": [
    {
     "name": "stdout",
     "output_type": "stream",
     "text": [
      "[{\"action\": \"transfer\", \"chain\": \"Blast\", \"amount\": \"12\", \"token\": \"ETH\", \"receiver\": \"trump.eth\"}]\n"
     ]
    }
   ],
   "source": [
    "response = parse(\"I want to transfer 12 ETH to trump.eth on Blast.\")\n",
    "print(response)"
   ]
  },
  {
   "cell_type": "code",
   "execution_count": 12,
   "metadata": {},
   "outputs": [
    {
     "name": "stdout",
     "output_type": "stream",
     "text": [
      "[{'action': 'transfer', 'chain': 'Blast', 'amount': '12', 'token': 'ETH', 'receiver': 'trump.eth'}]\n"
     ]
    }
   ],
   "source": [
    "import json\n",
    "\n",
    "steps = json.loads(response)\n",
    "print(steps)"
   ]
  },
  {
   "cell_type": "code",
   "execution_count": 13,
   "metadata": {},
   "outputs": [
    {
     "ename": "ImportError",
     "evalue": "cannot import name 'get_supported_actions' from 'utils.data_utils' (/Users/clement/Developer/python/bentobatch/utils/data_utils.py)",
     "output_type": "error",
     "traceback": [
      "\u001b[0;31m---------------------------------------------------------------------------\u001b[0m",
      "\u001b[0;31mImportError\u001b[0m                               Traceback (most recent call last)",
      "Cell \u001b[0;32mIn[13], line 1\u001b[0m\n\u001b[0;32m----> 1\u001b[0m \u001b[38;5;28;01mfrom\u001b[39;00m \u001b[38;5;21;01mutils\u001b[39;00m\u001b[38;5;21;01m.\u001b[39;00m\u001b[38;5;21;01mdata_utils\u001b[39;00m \u001b[38;5;28;01mimport\u001b[39;00m get_supported_actions\n\u001b[1;32m      3\u001b[0m supported_actions \u001b[38;5;241m=\u001b[39m get_supported_actions()\n\u001b[1;32m      4\u001b[0m \u001b[38;5;28mprint\u001b[39m(supported_actions)\n",
      "\u001b[0;31mImportError\u001b[0m: cannot import name 'get_supported_actions' from 'utils.data_utils' (/Users/clement/Developer/python/bentobatch/utils/data_utils.py)"
     ]
    }
   ],
   "source": [
    "from utils.data_utils import get_supported_actions\n",
    "\n",
    "supported_actions = get_supported_actions()\n",
    "print(supported_actions)"
   ]
  },
  {
   "cell_type": "code",
   "execution_count": null,
   "metadata": {},
   "outputs": [],
   "source": [
    "for step in steps:\n",
    "    action = step[\"action\"]\n",
    "    if action in supported_actions:\n",
    "        chain = step[\"chain\"]\n",
    "        amount = step[\"amount\"]\n",
    "        token = step[\"token\"]\n",
    "        receiver = step[\"receiver\"]\n",
    "        print(\n",
    "            supported_actions[action].format(\n",
    "                chain=chain, amount=amount, token=token, receiver=receiver\n",
    "            )\n",
    "        )\n",
    "    else:\n",
    "        print(f\"Unknown action: {action}\")"
   ]
  }
 ],
 "metadata": {
  "kernelspec": {
   "display_name": "env",
   "language": "python",
   "name": "python3"
  },
  "language_info": {
   "codemirror_mode": {
    "name": "ipython",
    "version": 3
   },
   "file_extension": ".py",
   "mimetype": "text/x-python",
   "name": "python",
   "nbconvert_exporter": "python",
   "pygments_lexer": "ipython3",
   "version": "3.12.3"
  }
 },
 "nbformat": 4,
 "nbformat_minor": 2
}
