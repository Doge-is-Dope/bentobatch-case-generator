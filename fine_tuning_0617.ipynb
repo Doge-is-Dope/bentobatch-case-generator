{
 "cells": [
  {
   "cell_type": "markdown",
   "metadata": {},
   "source": [
    "# Environment\n"
   ]
  },
  {
   "cell_type": "code",
   "execution_count": 1,
   "metadata": {},
   "outputs": [],
   "source": [
    "# import libraries\n",
    "import os\n",
    "import pandas as pd  # for storing text and embeddings data\n",
    "from openai import OpenAI  # for calling the OpenAI API\n",
    "from openai.types.chat import ChatCompletionMessageParam\n",
    "import tiktoken  # for counting tokens\n",
    "from utils.embeddings_utils import cosine_similarity\n",
    "\n",
    "# models\n",
    "EMBEDDING_MODEL = \"text-embedding-3-large\"\n",
    "GPT_MODEL = \"ft:gpt-3.5-turbo-0125:personal::9bNq78hh\""
   ]
  },
  {
   "cell_type": "code",
   "execution_count": 2,
   "metadata": {},
   "outputs": [],
   "source": [
    "client = OpenAI(api_key=os.environ[\"OPENAI_API_KEY\"])"
   ]
  },
  {
   "cell_type": "markdown",
   "metadata": {},
   "source": [
    "# Intent Parsing\n"
   ]
  },
  {
   "cell_type": "code",
   "execution_count": 3,
   "metadata": {},
   "outputs": [],
   "source": [
    "system_prompt = \"You will be presented with a user intent, and your task is to extract the useful information and output it in JSON format\"\n",
    "\n",
    "\n",
    "def parse(intent: str):\n",
    "    \"\"\"\n",
    "    Parse the user intent and return the extracted information in JSON format.\n",
    "    \"\"\"\n",
    "    messages: list[ChatCompletionMessageParam] = [\n",
    "        {\"role\": \"system\", \"content\": system_prompt},\n",
    "        {\"role\": \"user\", \"content\": intent},\n",
    "    ]\n",
    "    response = client.chat.completions.create(\n",
    "        model=GPT_MODEL, messages=messages, temperature=0.7, max_tokens=500\n",
    "    )\n",
    "    return response.choices[0].message.content"
   ]
  },
  {
   "cell_type": "code",
   "execution_count": 4,
   "metadata": {},
   "outputs": [
    {
     "data": {
      "text/plain": [
       "'[{\"action\": \"transfer\", \"chain\": \"Blast\", \"amount\": \"12\", \"token\": \"ETH\", \"receiver\": \"trump.eth\"}]'"
      ]
     },
     "execution_count": 4,
     "metadata": {},
     "output_type": "execute_result"
    }
   ],
   "source": [
    "parse(\"I want to transfer 12 ETH to trump.eth on Blast.\")"
   ]
  },
  {
   "cell_type": "code",
   "execution_count": 5,
   "metadata": {},
   "outputs": [
    {
     "data": {
      "text/plain": [
       "'[{\"action\": \"transfer\", \"chain\": \"Ethereum\", \"amount\": \"12\", \"token\": \"DOGE\", \"receiver\": \"0x436f795B64E23E6cE7792af4923A68AFD3967952\"}]'"
      ]
     },
     "execution_count": 5,
     "metadata": {},
     "output_type": "execute_result"
    }
   ],
   "source": [
    "parse(\"Send 12 DOGE to 0x436f795B64E23E6cE7792af4923A68AFD3967952 on Ethereum.\")"
   ]
  },
  {
   "cell_type": "code",
   "execution_count": 6,
   "metadata": {},
   "outputs": [
    {
     "data": {
      "text/plain": [
       "'[{\"action\": \"transfer\", \"chain\": \"Optimism\", \"amount\": \"12\", \"token\": \"PEPE\", \"receiver\": \"apple.eth\"}, {\"action\": \"transfer\", \"chain\": \"Optimism\", \"amount\": \"10\", \"token\": \"USDC\", \"receiver\": \"apple.eth\"}]'"
      ]
     },
     "execution_count": 6,
     "metadata": {},
     "output_type": "execute_result"
    }
   ],
   "source": [
    "parse(\"Send 12 PEPE and 10 USDC to apple.eth on Optimism.\")"
   ]
  },
  {
   "cell_type": "code",
   "execution_count": 7,
   "metadata": {},
   "outputs": [
    {
     "data": {
      "text/plain": [
       "'[{\"action\": \"transfer\", \"chain\": \"Gnosis\", \"amount\": \"12\", \"token\": \"PEPE\", \"receiver\": \"apple.eth\"}, {\"action\": \"transfer\", \"chain\": \"Gnosis\", \"amount\": \"10\", \"token\": \"USDT\", \"receiver\": \"banana.eth\"}]'"
      ]
     },
     "execution_count": 7,
     "metadata": {},
     "output_type": "execute_result"
    }
   ],
   "source": [
    "parse(\"Send 12 PEPE to apple.eth and 10 USDT to banana.eth on Gnosis.\")"
   ]
  },
  {
   "cell_type": "code",
   "execution_count": 8,
   "metadata": {},
   "outputs": [
    {
     "data": {
      "text/plain": [
       "'[{\"action\": \"transfer\", \"chain\": \"Ethereum\", \"amount\": \"5\", \"token\": \"USDC\", \"receiver\": \"biden.eth\"}, {\"action\": \"transfer\", \"chain\": \"Ethereum\", \"amount\": \"5\", \"token\": \"USDC\", \"receiver\": \"trump.eth\"}]'"
      ]
     },
     "execution_count": 8,
     "metadata": {},
     "output_type": "execute_result"
    }
   ],
   "source": [
    "parse(\"Split 10 USDC and send equally to biden.eth and trump.eth on Ethereum.\")"
   ]
  },
  {
   "cell_type": "code",
   "execution_count": 9,
   "metadata": {},
   "outputs": [
    {
     "data": {
      "text/plain": [
       "'[{\"action\": \"transfer\", \"chain\": \"Ethereum\", \"amount\": \"10\", \"token\": \"USDC\", \"receiver\": \"vitalik.eth\"}, {\"action\": \"transfer\", \"chain\": \"Base\", \"amount\": \"10\", \"token\": \"USDC\", \"receiver\": \"armstrong.eth\"}, {\"action\": \"transfer\", \"chain\": \"BNB\", \"amount\": \"4\", \"token\": \"USDC\", \"receiver\": \"cz-binance.eth\"}]'"
      ]
     },
     "execution_count": 9,
     "metadata": {},
     "output_type": "execute_result"
    }
   ],
   "source": [
    "parse(\n",
    "    \"Send 10 USDC to vitalik.eth on Ethereum, 10 USDC to armstrong.eth on Base and 4 USDC to cz-binance.eth on BNB Chain.\"\n",
    ")"
   ]
  },
  {
   "cell_type": "code",
   "execution_count": 10,
   "metadata": {},
   "outputs": [
    {
     "data": {
      "text/plain": [
       "'[{\"action\": \"transfer\", \"chain\": \"Ethereum\", \"amount\": \"10\", \"token\": \"0xA0b86991c6218b36c1d19D4a2e9Eb0cE3606eB48\", \"receiver\": \"vitalik.eth\"}]'"
      ]
     },
     "execution_count": 10,
     "metadata": {},
     "output_type": "execute_result"
    }
   ],
   "source": [
    "parse(\"Send 10 0xA0b86991c6218b36c1d19D4a2e9Eb0cE3606eB48 to vitalik.eth on Ethereum\")"
   ]
  },
  {
   "cell_type": "markdown",
   "metadata": {},
   "source": [
    "# Outputs Generation\n"
   ]
  },
  {
   "cell_type": "code",
   "execution_count": 11,
   "metadata": {},
   "outputs": [],
   "source": [
    "from utils.action_utils import evaluate_response\n",
    "import json\n",
    "\n",
    "\n",
    "def print_pretty_result(result: str | None):\n",
    "    \"\"\"\n",
    "    Print the parsed result and the actions in a pretty format for demo.\n",
    "    \"\"\"\n",
    "    assert result is not None, \"The result is None. Please check the input intent.\"\n",
    "    print(f\"parsed: {result}\\n====================\")\n",
    "    actions = evaluate_response(result)\n",
    "    # Example of the parsed actions\n",
    "    parsed_actions = [json.loads(action) for action in actions]\n",
    "    print(f\"{json.dumps(parsed_actions, indent=4)}\")"
   ]
  },
  {
   "cell_type": "code",
   "execution_count": 12,
   "metadata": {},
   "outputs": [
    {
     "name": "stdout",
     "output_type": "stream",
     "text": [
      "parsed: [{\"action\": \"transfer\", \"chain\": \"Ethereum\", \"amount\": \"12\", \"token\": \"USDC\", \"receiver\": \"0x9fD042a18E90Ce326073fA70F111DC9D798D9a52\"}]\n",
      "====================\n",
      "[\n",
      "    {\n",
      "        \"action\": \"transfer\",\n",
      "        \"description\": \"You are about to send 12 USDC to 0x9fD042...8D9a52 on Ethereum.\",\n",
      "        \"chain\": {\n",
      "            \"chain_id\": 1,\n",
      "            \"name\": \"ethereum\"\n",
      "        },\n",
      "        \"to\": \"0xa0b86991c6218b36c1d19d4a2e9eb0ce3606eb48\",\n",
      "        \"value\": \"0\",\n",
      "        \"data\": \"0xa9059cbb0000000000000000000000009fd042a18e90ce326073fa70f111dc9d798d9a520000000000000000000000000000000000000000000000000000000000b71b00\"\n",
      "    }\n",
      "]\n"
     ]
    }
   ],
   "source": [
    "parsed = parse(\n",
    "    \"I want to transfer 12 USDC to 0x9fD042a18E90Ce326073fA70F111DC9D798D9a52 on Ethereum.\"\n",
    ")\n",
    "print_pretty_result(parsed)"
   ]
  },
  {
   "cell_type": "code",
   "execution_count": 13,
   "metadata": {},
   "outputs": [
    {
     "name": "stdout",
     "output_type": "stream",
     "text": [
      "parsed: [{\"action\": \"transfer\", \"chain\": \"Ethereum\", \"amount\": \"12\", \"token\": \"DOGE\", \"receiver\": \"0x123\"}]\n",
      "====================\n",
      "[\n",
      "    {\n",
      "        \"type\": \"InvalidArgumentError\",\n",
      "        \"error\": \"Invalid recipient: 0x123\"\n",
      "    }\n",
      "]\n"
     ]
    }
   ],
   "source": [
    "parsed = parse(\"Send 12 DOGE to 0x123 on Ethereum.\")\n",
    "print_pretty_result(parsed)"
   ]
  },
  {
   "cell_type": "code",
   "execution_count": 14,
   "metadata": {},
   "outputs": [
    {
     "name": "stdout",
     "output_type": "stream",
     "text": [
      "parsed: [{\"action\": \"transfer\", \"chain\": \"Ethereum\", \"amount\": \"0.5\", \"token\": \"USDC\", \"receiver\": \"vitalik.eth\"}]\n",
      "====================\n",
      "[\n",
      "    {\n",
      "        \"action\": \"transfer\",\n",
      "        \"description\": \"You are about to send 0.5 USDC to 0xd8dA6B...A96045 on Ethereum.\",\n",
      "        \"chain\": {\n",
      "            \"chain_id\": 1,\n",
      "            \"name\": \"ethereum\"\n",
      "        },\n",
      "        \"to\": \"0xa0b86991c6218b36c1d19d4a2e9eb0ce3606eb48\",\n",
      "        \"value\": \"0\",\n",
      "        \"data\": \"0xa9059cbb000000000000000000000000d8da6bf26964af9d7eed9e03e53415d37aa96045000000000000000000000000000000000000000000000000000000000007a120\"\n",
      "    }\n",
      "]\n"
     ]
    }
   ],
   "source": [
    "parsed = parse(\"Send 0.5 USDC to vitalik.eth on Ethereum.\")\n",
    "print_pretty_result(parsed)"
   ]
  },
  {
   "cell_type": "code",
   "execution_count": 15,
   "metadata": {},
   "outputs": [
    {
     "name": "stdout",
     "output_type": "stream",
     "text": [
      "parsed: [{\"action\": \"transfer\", \"chain\": \"Ethereum\", \"amount\": \"0.5\", \"token\": \"USDC\", \"receiver\": \"vitalik.eth\"}, {\"action\": \"transfer\", \"chain\": \"Ethereum\", \"amount\": \"100\", \"token\": \"USDT\", \"receiver\": \"doge.eth\"}]\n",
      "====================\n",
      "[\n",
      "    {\n",
      "        \"action\": \"transfer\",\n",
      "        \"description\": \"You are about to send 0.5 USDC to 0xd8dA6B...A96045 on Ethereum.\",\n",
      "        \"chain\": {\n",
      "            \"chain_id\": 1,\n",
      "            \"name\": \"ethereum\"\n",
      "        },\n",
      "        \"to\": \"0xa0b86991c6218b36c1d19d4a2e9eb0ce3606eb48\",\n",
      "        \"value\": \"0\",\n",
      "        \"data\": \"0xa9059cbb000000000000000000000000d8da6bf26964af9d7eed9e03e53415d37aa96045000000000000000000000000000000000000000000000000000000000007a120\"\n",
      "    },\n",
      "    {\n",
      "        \"action\": \"transfer\",\n",
      "        \"description\": \"You are about to send 100 USDT to 0xDDd396...076364 on Ethereum.\",\n",
      "        \"chain\": {\n",
      "            \"chain_id\": 1,\n",
      "            \"name\": \"ethereum\"\n",
      "        },\n",
      "        \"to\": \"0xdac17f958d2ee523a2206206994597c13d831ec7\",\n",
      "        \"value\": \"0\",\n",
      "        \"data\": \"0xa9059cbb000000000000000000000000ddd3964d75d59b6b6d5c31eb313bba5ebf0763640000000000000000000000000000000000000000000000000000000005f5e100\"\n",
      "    }\n",
      "]\n"
     ]
    }
   ],
   "source": [
    "parsed = parse(\n",
    "    \"Send 0.5 USDC to vitalik.eth and send 100 USDT to doge.eth on Ethereum.\"\n",
    ")\n",
    "print_pretty_result(parsed)"
   ]
  },
  {
   "cell_type": "code",
   "execution_count": 16,
   "metadata": {},
   "outputs": [
    {
     "name": "stdout",
     "output_type": "stream",
     "text": [
      "parsed: [{\"action\": \"transfer\", \"chain\": \"Base\", \"amount\": \"0.5\", \"token\": \"PEPE\", \"receiver\": \"doge.eth\"}]\n",
      "====================\n",
      "[\n",
      "    {\n",
      "        \"type\": \"TokenNotFoundError\",\n",
      "        \"error\": \"PEPE is not found on Base.\"\n",
      "    }\n",
      "]\n"
     ]
    }
   ],
   "source": [
    "parsed = parse(\"Send 0.5 PEPE to doge.eth on Base.\")\n",
    "print_pretty_result(parsed)"
   ]
  },
  {
   "cell_type": "code",
   "execution_count": 17,
   "metadata": {},
   "outputs": [
    {
     "name": "stdout",
     "output_type": "stream",
     "text": [
      "parsed: [{\"action\": \"transfer\", \"chain\": \"zkSync\", \"amount\": \"0.0001\", \"token\": \"ETH\", \"receiver\": \"vitalik.eth\"}]\n",
      "====================\n",
      "[\n",
      "    {\n",
      "        \"action\": \"transfer\",\n",
      "        \"description\": \"You are about to send 0.0001 ETH to 0xd8dA6B...A96045 on Zksync Era.\",\n",
      "        \"chain\": {\n",
      "            \"chain_id\": 324,\n",
      "            \"name\": \"zksync era\"\n",
      "        },\n",
      "        \"to\": \"0xd8dA6BF26964aF9D7eEd9e03E53415D37aA96045\",\n",
      "        \"value\": \"100000000000000\",\n",
      "        \"data\": \"0x\"\n",
      "    }\n",
      "]\n"
     ]
    }
   ],
   "source": [
    "parsed = parse(\"Send 0.0001 ETH to vitalik.eth on zkSync Era.\")\n",
    "print_pretty_result(parsed)"
   ]
  },
  {
   "cell_type": "code",
   "execution_count": 18,
   "metadata": {},
   "outputs": [
    {
     "name": "stdout",
     "output_type": "stream",
     "text": [
      "parsed: [{\"action\": \"approve\", \"chain\": \"Ethereum\", \"amount\": \"0.0001\", \"token\": \"USDC\", \"spender\": \"vitalik.eth\"}, {\"action\": \"transfer\", \"chain\": \"Ethereum\", \"amount\": \"10\", \"token\": \"PEPE\", \"receiver\": \"0x9fD042a18E90Ce326073fA70F111DC9D798D9a52\"}]\n",
      "====================\n",
      "[\n",
      "    {\n",
      "        \"action\": \"approve\",\n",
      "        \"description\": \"You are about to approve 0xd8dA6B...A96045 for spending 0.0001 USDC on Ethereum.\",\n",
      "        \"chain\": {\n",
      "            \"chain_id\": 1,\n",
      "            \"name\": \"ethereum\"\n",
      "        },\n",
      "        \"to\": \"0xa0b86991c6218b36c1d19d4a2e9eb0ce3606eb48\",\n",
      "        \"value\": \"0\",\n",
      "        \"data\": \"0x095ea7b3000000000000000000000000d8da6bf26964af9d7eed9e03e53415d37aa960450000000000000000000000000000000000000000000000000000000000000064\"\n",
      "    },\n",
      "    {\n",
      "        \"action\": \"transfer\",\n",
      "        \"description\": \"You are about to send 10 PEPE to 0x9fD042...8D9a52 on Ethereum.\",\n",
      "        \"chain\": {\n",
      "            \"chain_id\": 1,\n",
      "            \"name\": \"ethereum\"\n",
      "        },\n",
      "        \"to\": \"0x6982508145454ce325ddbe47a25d4ec3d2311933\",\n",
      "        \"value\": \"0\",\n",
      "        \"data\": \"0xa9059cbb0000000000000000000000009fd042a18e90ce326073fa70f111dc9d798d9a520000000000000000000000000000000000000000000000008ac7230489e80000\"\n",
      "    }\n",
      "]\n"
     ]
    }
   ],
   "source": [
    "parsed = parse(\n",
    "    \"\"\"\n",
    "        The batch is on Ethereum. It requires several steps:\n",
    "        1. Approve 0.0001 USDC to vitalik.eth\n",
    "        2. Transfer 10 PEPE to 0x9fD042a18E90Ce326073fA70F111DC9D798D9a52\n",
    "    \"\"\"\n",
    ")\n",
    "print_pretty_result(parsed)"
   ]
  },
  {
   "cell_type": "code",
   "execution_count": 19,
   "metadata": {},
   "outputs": [
    {
     "name": "stdout",
     "output_type": "stream",
     "text": [
      "parsed: [{\"action\": \"approve\", \"chain\": \"Polygon\", \"amount\": \"1\", \"token\": \"DAI\", \"spender\": \"YearnV3\"}, {\"action\": \"deposit\", \"chain\": \"Polygon\", \"amount\": \"1\", \"token\": \"DAI\", \"receiver\": \"0x9fD042a18E90Ce326073fA70F111DC9D798D9a52\"}]\n",
      "====================\n",
      "Protocols:  {'suggested': {'score': 0.5226272658089463, 'id': 'yearn_polygon_dai_vault', 'address': '0x90b2f54C6aDDAD41b8f6c4fCCd555197BC0F773B'}, 'other_options': [{'score': 0.4530598427588193, 'id': 'yearn_polygon_usdc_vault', 'address': '0xA013Fbd4b711f9ded6fB09C1c0d358E2FbC2EAA0'}, {'score': 0.4024130570817053, 'id': 'yearn_polygon_weth_vault', 'address': '0x305F25377d0a39091e99B975558b1bdfC3975654'}, {'score': 0.39573593948974334, 'id': 'yearn_polygon_usdt_vault', 'address': '0x84E13785B5a27879921D6Ff77f8f6687E9d5b2f7'}]}\n",
      "[\n",
      "    {\n",
      "        \"action\": \"approve\",\n",
      "        \"description\": \"You are about to approve 0x90b2f5...0F773B for spending 1 DAI on Polygon.\",\n",
      "        \"chain\": {\n",
      "            \"chain_id\": 137,\n",
      "            \"name\": \"polygon\"\n",
      "        },\n",
      "        \"to\": \"0x8f3Cf7ad23Cd3CaDbD9735AFf958023239c6A063\",\n",
      "        \"value\": \"0\",\n",
      "        \"data\": \"0x095ea7b300000000000000000000000090b2f54c6addad41b8f6c4fccd555197bc0f773b0000000000000000000000000000000000000000000000000de0b6b3a7640000\"\n",
      "    },\n",
      "    {\n",
      "        \"type\": \"UnsupportedActionError\",\n",
      "        \"error\": \"Unsupported action: deposit\"\n",
      "    }\n",
      "]\n"
     ]
    }
   ],
   "source": [
    "parsed = parse(\n",
    "    \"\"\"\n",
    "        The batch is on Polygon. It requires several steps:\n",
    "        1. Approve 1 DAI to YearnV3\n",
    "        2. Deposit 1 DAI to 0x9fD042a18E90Ce326073fA70F111DC9D798D9a52\n",
    "    \"\"\"\n",
    ")\n",
    "print_pretty_result(parsed)"
   ]
  }
 ],
 "metadata": {
  "kernelspec": {
   "display_name": "env",
   "language": "python",
   "name": "python3"
  },
  "language_info": {
   "codemirror_mode": {
    "name": "ipython",
    "version": 3
   },
   "file_extension": ".py",
   "mimetype": "text/x-python",
   "name": "python",
   "nbconvert_exporter": "python",
   "pygments_lexer": "ipython3",
   "version": "3.12.3"
  }
 },
 "nbformat": 4,
 "nbformat_minor": 2
}
