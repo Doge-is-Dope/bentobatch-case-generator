{
 "cells": [
  {
   "cell_type": "markdown",
   "metadata": {},
   "source": [
    "# Environment\n"
   ]
  },
  {
   "cell_type": "code",
   "execution_count": 1,
   "metadata": {},
   "outputs": [],
   "source": [
    "# import libraries\n",
    "import os\n",
    "import pandas as pd  # for storing text and embeddings data\n",
    "from openai import OpenAI  # for calling the OpenAI API\n",
    "from openai.types.chat import ChatCompletionMessageParam\n",
    "from tenacity import (\n",
    "    retry,\n",
    "    wait_random_exponential,\n",
    "    stop_after_attempt,\n",
    ")  # for retrying API calls\n",
    "import tiktoken  # for counting tokens\n",
    "from utils.embeddings_utils import cosine_similarity\n",
    "from utils.data_utils import remove_newlines\n",
    "\n",
    "# models\n",
    "EMBEDDING_MODEL = \"text-embedding-3-large\"\n",
    "GPT_MODEL = \"gpt-3.5-turbo\""
   ]
  },
  {
   "cell_type": "code",
   "execution_count": 2,
   "metadata": {},
   "outputs": [],
   "source": [
    "client = OpenAI(api_key=os.environ[\"OPENAI_API_KEY\"])"
   ]
  },
  {
   "cell_type": "markdown",
   "metadata": {},
   "source": [
    "# Data Cleaning\n"
   ]
  },
  {
   "cell_type": "code",
   "execution_count": 3,
   "metadata": {},
   "outputs": [
    {
     "name": "stdout",
     "output_type": "stream",
     "text": [
      "Data shape: (44, 4)\n"
     ]
    }
   ],
   "source": [
    "import re\n",
    "\n",
    "\n",
    "def parse_directory(base_dir):\n",
    "    data = []\n",
    "    pattern = re.compile(r\"[a-zA-Z0-9]+_[a-zA-Z0-9\\-]+$\")\n",
    "\n",
    "    for root, dirs, files in os.walk(base_dir):\n",
    "        for dir_name in dirs:\n",
    "            if not pattern.match(dir_name):\n",
    "                continue  # Skip directories not matching the pattern. e.g. ___prebuilt-tx\n",
    "            dir_path = os.path.join(root, dir_name)\n",
    "            network, case = dir_name.split(\"_\")\n",
    "            index_ts_path = os.path.join(dir_path, \"index.ts\")\n",
    "            index_details_ts_path = os.path.join(dir_path, \"index.details.ts\")\n",
    "\n",
    "            index_data = \"\"\n",
    "            details_data = \"\"\n",
    "\n",
    "            if os.path.exists(index_ts_path):\n",
    "                with open(index_ts_path, \"r\") as index_file:\n",
    "                    index_data = index_file.read()\n",
    "\n",
    "            if os.path.exists(index_details_ts_path):\n",
    "                with open(index_details_ts_path, \"r\") as details_file:\n",
    "                    details_data = details_file.read()\n",
    "\n",
    "            data.append(\n",
    "                {\n",
    "                    \"case\": case.replace(\"-\", \"_\"),\n",
    "                    \"network\": network,\n",
    "                    \"code\": index_data,\n",
    "                    \"text\": f\"{case}. {network}. {index_data}. {details_data}\",\n",
    "                }\n",
    "            )\n",
    "\n",
    "    return data\n",
    "\n",
    "\n",
    "directory_path = \"case/\"\n",
    "data = parse_directory(directory_path)\n",
    "df = pd.DataFrame(data)\n",
    "df.to_csv(\"processed/case.csv\")\n",
    "print(f\"Data shape: {df.shape}\")"
   ]
  },
  {
   "cell_type": "code",
   "execution_count": 4,
   "metadata": {},
   "outputs": [
    {
     "data": {
      "text/html": [
       "<div>\n",
       "<style scoped>\n",
       "    .dataframe tbody tr th:only-of-type {\n",
       "        vertical-align: middle;\n",
       "    }\n",
       "\n",
       "    .dataframe tbody tr th {\n",
       "        vertical-align: top;\n",
       "    }\n",
       "\n",
       "    .dataframe thead th {\n",
       "        text-align: right;\n",
       "    }\n",
       "</style>\n",
       "<table border=\"1\" class=\"dataframe\">\n",
       "  <thead>\n",
       "    <tr style=\"text-align: right;\">\n",
       "      <th></th>\n",
       "      <th>case</th>\n",
       "      <th>network</th>\n",
       "      <th>code</th>\n",
       "      <th>text</th>\n",
       "    </tr>\n",
       "  </thead>\n",
       "  <tbody>\n",
       "    <tr>\n",
       "      <th>0</th>\n",
       "      <td>multi_sender</td>\n",
       "      <td>polygon</td>\n",
       "      <td>import type { Abi } from 'abitype'\\nimport {\\n...</td>\n",
       "      <td>multi-sender. polygon. import type { Abi } fro...</td>\n",
       "    </tr>\n",
       "    <tr>\n",
       "      <th>1</th>\n",
       "      <td>zircuit_eigenpie_swell</td>\n",
       "      <td>ethereum</td>\n",
       "      <td>import type { Abi } from 'abitype'\\nimport {\\n...</td>\n",
       "      <td>zircuit-eigenpie-swell. ethereum. import type ...</td>\n",
       "    </tr>\n",
       "    <tr>\n",
       "      <th>2</th>\n",
       "      <td>genesis_liquidity</td>\n",
       "      <td>ethereum</td>\n",
       "      <td>import type { Abi } from 'abitype'\\nimport {\\n...</td>\n",
       "      <td>genesis-liquidity. ethereum. import type { Abi...</td>\n",
       "    </tr>\n",
       "    <tr>\n",
       "      <th>3</th>\n",
       "      <td>yearn_v3_usdt</td>\n",
       "      <td>polygon</td>\n",
       "      <td>import type { Abi, Address } from \"abitype\";\\n...</td>\n",
       "      <td>yearn-v3-usdt. polygon. import type { Abi, Add...</td>\n",
       "    </tr>\n",
       "    <tr>\n",
       "      <th>4</th>\n",
       "      <td>pendle_points</td>\n",
       "      <td>arbitrum</td>\n",
       "      <td>import {\\n  BatchCase,\\n  Context,\\n  Tx,\\n  I...</td>\n",
       "      <td>pendle-points. arbitrum. import { BatchCase, C...</td>\n",
       "    </tr>\n",
       "  </tbody>\n",
       "</table>\n",
       "</div>"
      ],
      "text/plain": [
       "                     case   network  \\\n",
       "0            multi_sender   polygon   \n",
       "1  zircuit_eigenpie_swell  ethereum   \n",
       "2       genesis_liquidity  ethereum   \n",
       "3           yearn_v3_usdt   polygon   \n",
       "4           pendle_points  arbitrum   \n",
       "\n",
       "                                                code  \\\n",
       "0  import type { Abi } from 'abitype'\\nimport {\\n...   \n",
       "1  import type { Abi } from 'abitype'\\nimport {\\n...   \n",
       "2  import type { Abi } from 'abitype'\\nimport {\\n...   \n",
       "3  import type { Abi, Address } from \"abitype\";\\n...   \n",
       "4  import {\\n  BatchCase,\\n  Context,\\n  Tx,\\n  I...   \n",
       "\n",
       "                                                text  \n",
       "0  multi-sender. polygon. import type { Abi } fro...  \n",
       "1  zircuit-eigenpie-swell. ethereum. import type ...  \n",
       "2  genesis-liquidity. ethereum. import type { Abi...  \n",
       "3  yearn-v3-usdt. polygon. import type { Abi, Add...  \n",
       "4  pendle-points. arbitrum. import { BatchCase, C...  "
      ]
     },
     "execution_count": 4,
     "metadata": {},
     "output_type": "execute_result"
    }
   ],
   "source": [
    "df[\"text\"] = remove_newlines(df[\"text\"])  # remove newlines for better embeddings\n",
    "if not os.path.exists(\"processed/\"):\n",
    "    os.mkdir(\"processed/\")\n",
    "df.to_csv(f\"processed/data.csv\")\n",
    "df.head()"
   ]
  },
  {
   "cell_type": "markdown",
   "metadata": {},
   "source": [
    "# Create embeddings\n"
   ]
  },
  {
   "cell_type": "code",
   "execution_count": 5,
   "metadata": {},
   "outputs": [],
   "source": [
    "# Retry up to 6 times with exponential backoff, starting at 1 second and maxing out at 20 seconds delay\n",
    "@retry(wait=wait_random_exponential(min=1, max=20), stop=stop_after_attempt(6))\n",
    "def get_embedding(text: str, model=EMBEDDING_MODEL) -> list:\n",
    "    response = client.embeddings.create(input=[text], model=model)\n",
    "    return response.data[0].embedding"
   ]
  },
  {
   "cell_type": "code",
   "execution_count": 6,
   "metadata": {},
   "outputs": [],
   "source": [
    "df[\"text_embedding\"] = df[\"text\"].apply(lambda x: get_embedding(x))\n",
    "df.to_csv(f\"processed/embeddings.csv\")"
   ]
  },
  {
   "cell_type": "code",
   "execution_count": 7,
   "metadata": {},
   "outputs": [],
   "source": [
    "def search_case(df, query, top_n=3, n_lines=10):\n",
    "    query_embedding = get_embedding(query)\n",
    "\n",
    "    cases_and_relatednesses = [\n",
    "        (\n",
    "            row[\"case\"],\n",
    "            row[\"network\"],\n",
    "            row[\"code\"],\n",
    "            cosine_similarity(query_embedding, row[\"text_embedding\"]),\n",
    "        )\n",
    "        for i, row in df.iterrows()\n",
    "    ]\n",
    "    cases_and_relatednesses.sort(key=lambda x: x[3], reverse=True)\n",
    "    top_cases = cases_and_relatednesses[:top_n]\n",
    "    cases, networks, codes, scores = zip(*top_cases)\n",
    "    return list(zip(scores, cases, networks, codes))"
   ]
  },
  {
   "cell_type": "code",
   "execution_count": 8,
   "metadata": {},
   "outputs": [
    {
     "name": "stdout",
     "output_type": "stream",
     "text": [
      "Score: 0.5355\n",
      "Case: aave_usdc_eth\n",
      "Network: ethereum\n",
      "Code: import type { Abi } ...\n",
      "----------------------------------------------------------------------\n",
      "Score: 0.5042\n",
      "Case: aave_eth_eth\n",
      "Network: ethereum\n",
      "Code: import type { Abi } ...\n",
      "----------------------------------------------------------------------\n",
      "Score: 0.4912\n",
      "Case: aave_usdt_eth\n",
      "Network: ethereum\n",
      "Code: import type { Abi } ...\n",
      "----------------------------------------------------------------------\n"
     ]
    }
   ],
   "source": [
    "# Example\n",
    "result = search_case(df, \"Deposit USDC to borrow ETH on AAVE\", top_n=3)\n",
    "for score, case, network, code in result:\n",
    "    print(f\"Score: {score.round(4)}\")\n",
    "    print(f\"Case: {case}\")\n",
    "    print(f\"Network: {network}\")\n",
    "    print(f\"Code: {code[:20]}...\")\n",
    "    print(\"-\" * 70)  # separator"
   ]
  },
  {
   "cell_type": "markdown",
   "metadata": {},
   "source": [
    "# Ask\n"
   ]
  },
  {
   "cell_type": "code",
   "execution_count": 9,
   "metadata": {},
   "outputs": [],
   "source": [
    "from utils.data_utils import get_example_qa, read_constants\n",
    "\n",
    "constants = read_constants()\n",
    "example_question, example_answer = get_example_qa()\n",
    "\n",
    "\n",
    "def num_tokens(text: str, model: str = GPT_MODEL) -> int:\n",
    "    \"\"\"\n",
    "    Return the number of tokens in a string.\n",
    "    \"\"\"\n",
    "    encoding = tiktoken.encoding_for_model(model)\n",
    "    return len(encoding.encode(text))\n",
    "\n",
    "\n",
    "def query_message(query: str, df: pd.DataFrame, model: str, token_budget: int) -> str:\n",
    "    \"\"\"\n",
    "    Return a message for GPT, with relevant source texts pulled from a dataframe.\n",
    "    \"\"\"\n",
    "    result = search_case(df, query)\n",
    "    scores, cases, networks, codes = zip(*result)\n",
    "    introduction = f\"Update the 'Code' based on the user's 'Question'. `inputs` can be omitted. Use the following data as reference: \\n\\nData: {constants}\\n\"\n",
    "    question = f\"\\n\\nQuestion: {query}\"\n",
    "    message = introduction\n",
    "    for code in codes:\n",
    "        data = f'\\n\\nCode:\\n\"\"\"\\n{code}\\n\"\"\"'\n",
    "        if num_tokens(message + data + question, model=model) > token_budget:\n",
    "            break\n",
    "        else:\n",
    "            message += data\n",
    "    return message + question\n",
    "\n",
    "\n",
    "def ask(\n",
    "    query: str,\n",
    "    df: pd.DataFrame = df,\n",
    "    model: str = GPT_MODEL,\n",
    "    token_budget: int = 4096 - 500,\n",
    "    print_message: bool = False,\n",
    "):\n",
    "    \"\"\"\n",
    "    Answers a query using GPT and a dataframe of relevant texts and embeddings.\n",
    "    \"\"\"\n",
    "    message = query_message(query, df, model=model, token_budget=token_budget)\n",
    "    if print_message:\n",
    "        print(message)\n",
    "    messages: list[ChatCompletionMessageParam] = [\n",
    "        {\n",
    "            \"role\": \"system\",\n",
    "            \"content\": f\"As a BatchBase code generator, you generate code tailored to the user's requirements.\",\n",
    "        },\n",
    "        {\"role\": \"user\", \"content\": example_question},\n",
    "        {\"role\": \"assistant\", \"content\": example_answer},\n",
    "        {\"role\": \"user\", \"content\": message},\n",
    "    ]\n",
    "    response = client.chat.completions.create(\n",
    "        model=model, messages=messages, temperature=0\n",
    "    )\n",
    "    return response.choices[0].message.content"
   ]
  },
  {
   "cell_type": "code",
   "execution_count": 10,
   "metadata": {},
   "outputs": [
    {
     "data": {
      "text/plain": [
       "\"```javascript\\nimport type { Abi } from 'abitype'\\nimport {\\n  Context,\\n  BatchCase,\\n  InputType,\\n  Tag,\\n  TagTitle,\\n  Tx,\\n  WalletType,\\n} from '@/models/cases/v3/types'\\nimport {\\n  encodeFunctionData,\\n  erc20Abi,\\n  formatUnits,\\n  isAddress,\\n  parseUnits,\\n} from 'viem'\\nimport { balanceOf } from '../prebuilt-tx/ERC20'\\nimport { AddressNotFoundError } from '../error'\\n\\nconst tokenConfig = {\\n  addr: '0xc2132D05D31c914a87C6611C10748AEb04B58e8F' as `0x${string}`,\\n  symbol: 'USDT',\\n  decimals: 6,\\n}\\n\\nconst multiSender: BatchCase = {\\n  id: 'multi_sender',\\n  name: 'Multi-Send of USDT on Polygon',\\n  description: 'One-Click to send USDT to multiple addresses.',\\n  details: [],\\n  website: {\\n    title: 'Bento Batch 🍱',\\n    url: 'https://x.com/bentobatch',\\n  },\\n  tags: [TagTitle.Asset].map((name) => ({ title: name }) as Tag),\\n  curatorTwitter: {\\n    name: 'Bento Batch 🍱',\\n    url: 'https://x.com/bentobatch',\\n  },\\n  protocols: [],\\n  attributes: [],\\n  networkId: 137,\\n  atomic: true,\\n  renderExpiry: undefined,\\n  inputs: [], // no inputs\\n  previewTx: [\\n    {\\n      name: 'Transfer',\\n      description: 'USDT to recipient',\\n      to: '0x09Fb377F01229892a0F19364A08d997509e69Ba1',\\n    },\\n    {\\n      name: 'Transfer',\\n      description: 'USDT to recipient',\\n      to: '0x69F1CDa80d4b9De5fC084938037a34caA480e2d0',\\n    },\\n    {\\n      name: 'Transfer',\\n      description: 'USDT to recipient',\\n      to: '0x1230b1F9B5eDBd8dD082aEC42188686D546b9d5c',\\n    },\\n  ],\\n  supportedWalletTypes: [WalletType.AA, WalletType.EOA],\\n  render: async (context: Context) => {\\n    const txs: Tx[] = []\\n\\n    const userAddress = context.account.address\\n    if (!userAddress) throw new AddressNotFoundError()\\n\\n    // const inputs = context.inputs as string[] // Omitted for no inputs\\n    const inputs = [\\n      '10',\\n      '0x09Fb377F01229892a0F19364A08d997509e69Ba1, 0x69F1CDa80d4b9De5fC084938037a34caA480e2d0, 0x1230b1F9B5eDBd8dD082aEC42188686D546b9d5c',\\n    ]\\n    const amount = parseUnits(inputs[0], tokenConfig.decimals)\\n    const addresses = inputs[1]\\n      .split(',')\\n      .filter((address) => address)\\n      .map((address) => {\\n        const trimmedAddress = address.trim()\\n        if (!isAddress(trimmedAddress)) {\\n          throw Error('Recipients contain invalid address(es)')\\n        }\\n        return trimmedAddress\\n      })\\n\\n    if (addresses.length > 30) {\\n      throw Error('The recipients exceeds the limit of 30')\\n    }\\n\\n    const totalAmount = amount * BigInt(addresses.length)\\n    const userBalance = await balanceOf({\\n      chain: context.chain,\\n      userAddress: userAddress,\\n      tokenAddress: tokenConfig.addr,\\n    })\\n    if (totalAmount > userBalance) {\\n      throw Error(\\n        `Insufficient balance: need ${formatUnits(totalAmount, tokenConfig.decimals)} ${tokenConfig.symbol} in total`\\n      )\\n    }\\n\\n    addresses.forEach((address) => {\\n      txs.push({\\n        name: 'Transfer',\\n        description: `${inputs[0]} ${tokenConfig.symbol} to ${address}`,\\n        to: tokenConfig.addr,\\n        value: 0n,\\n        data: encodeFunctionData({\\n          abi: erc20Abi,\\n          functionName: 'transfer',\\n          args: [\\n            address, // recipient\\n            amount, // amount\\n          ],\\n        }),\\n        abi: erc20Abi as Abi,\\n      })\\n    })\\n\\n    return txs\\n  },\\n}\\n\\nexport default [multiSender]\\n```\\n```\""
      ]
     },
     "execution_count": 10,
     "metadata": {},
     "output_type": "execute_result"
    }
   ],
   "source": [
    "ask(\n",
    "    \"I want to send 10 USDT to my friends on Polygon. Their addresses are '0x09Fb377F01229892a0F19364A08d997509e69Ba1', '0x69F1CDa80d4b9De5fC084938037a34caA480e2d0' and '0x1230b1F9B5eDBd8dD082aEC42188686D546b9d5c'\"\n",
    ")"
   ]
  },
  {
   "cell_type": "code",
   "execution_count": 11,
   "metadata": {},
   "outputs": [
    {
     "data": {
      "text/plain": [
       "\"```javascript\\nimport type { Abi } from 'abitype'\\nimport {\\n  Context,\\n  BatchCase,\\n  InputType,\\n  Tag,\\n  TagTitle,\\n  Tx,\\n  WalletType,\\n} from '@/models/cases/v3/types'\\nimport {\\n  encodeFunctionData,\\n  erc20Abi,\\n  formatUnits,\\n  isAddress,\\n  parseUnits,\\n} from 'viem'\\nimport { balanceOf } from '../prebuilt-tx/ERC20'\\nimport { AddressNotFoundError } from '../error'\\n\\nconst tokenConfig = {\\n  addr: '0xaf88d065e77c8cC2239327C5EDb3A432268e5831' as `0x${string}`,\\n  symbol: 'USDC',\\n  decimals: 6,\\n}\\n\\nconst sendUsdcArbitrum: BatchCase = {\\n  id: 'send_usdc_arbitrum',\\n  name: 'Send 1 USDC to Address on Arbitrum',\\n  description: 'Send 1 USDC to a specific address on Arbitrum.',\\n  details: [],\\n  website: {\\n    title: 'Bento Batch 🍱',\\n    url: 'https://x.com/bentobatch',\\n  },\\n  tags: [TagTitle.Asset].map((name) => ({ title: name }) as Tag),\\n  curatorTwitter: {\\n    name: 'Bento Batch 🍱',\\n    url: 'https://x.com/bentobatch',\\n  },\\n  protocols: [],\\n  attributes: [],\\n  networkId: 42161,\\n  atomic: true,\\n  renderExpiry: undefined,\\n  inputs: [], // no inputs\\n  previewTx: [\\n    {\\n      name: 'Transfer',\\n      description: '1 USDC to recipient',\\n      to: '0x09Fb377F01229892a0F19364A08d997509e69Ba1',\\n    },\\n  ],\\n  supportedWalletTypes: [WalletType.AA, WalletType.EOA],\\n  render: async (context: Context) => {\\n    const txs: Tx[] = []\\n\\n    const userAddress = context.account.address\\n    if (!userAddress) throw new AddressNotFoundError()\\n\\n    const amount = parseUnits('1', tokenConfig.decimals)\\n    const recipient = '0x09Fb377F01229892a0F19364A08d997509e69Ba1'\\n\\n    const userBalance = await balanceOf({\\n      chain: context.chain,\\n      userAddress: userAddress,\\n      tokenAddress: tokenConfig.addr,\\n    })\\n    if (amount > userBalance) {\\n      throw Error(\\n        `Insufficient balance: need ${formatUnits(amount, tokenConfig.decimals)} ${tokenConfig.symbol}`\\n      )\\n    }\\n\\n    txs.push({\\n      name: 'Transfer',\\n      description: `1 ${tokenConfig.symbol} to ${recipient}`,\\n      to: tokenConfig.addr,\\n      value: 0n,\\n      data: encodeFunctionData({\\n        abi: erc20Abi,\\n        functionName: 'transfer',\\n        args: [\\n          recipient, // recipient\\n          amount, // amount\\n        ],\\n      }),\\n      abi: erc20Abi as Abi,\\n    })\\n\\n    return txs\\n  },\\n}\\n\\nexport default sendUsdcArbitrum\\n```\\n```\""
      ]
     },
     "execution_count": 11,
     "metadata": {},
     "output_type": "execute_result"
    }
   ],
   "source": [
    "ask(\"Send 1 USDC to address '0x09Fb377F01229892a0F19364A08d997509e69Ba1' on Arbitrum\")"
   ]
  },
  {
   "cell_type": "code",
   "execution_count": 12,
   "metadata": {},
   "outputs": [
    {
     "data": {
      "text/plain": [
       "\"```javascript\\nimport type { Abi } from 'abitype'\\nimport {\\n  Context,\\n  BatchCase,\\n  InputType,\\n  Tag,\\n  TagTitle,\\n  Tx,\\n  WalletType,\\n} from '@/models/cases/v3/types'\\nimport {\\n  encodeFunctionData,\\n  erc20Abi,\\n  formatUnits,\\n  isAddress,\\n  parseUnits,\\n} from 'viem'\\nimport { balanceOf } from '../prebuilt-tx/ERC20'\\nimport { AddressNotFoundError } from '../error'\\n\\nconst tokenConfig = {\\n  addr: '0x833589fCD6eDb6E08f4c7C32D4f71b54bdA02913' as `0x${string}`,\\n  symbol: 'USDC',\\n  decimals: 6,\\n}\\n\\nconst multiSenderUsdc: BatchCase = {\\n  id: 'multi_sender_usdc',\\n  name: 'Send 1 USDC to Multiple Addresses on Base',\\n  description: 'One-Click to send USDC to multiple addresses on Base.',\\n  details: [],\\n  website: {\\n    title: 'Bento Batch 🍱',\\n    url: 'https://x.com/bentobatch',\\n  },\\n  tags: [TagTitle.Asset].map((name) => ({ title: name }) as Tag),\\n  curatorTwitter: {\\n    name: 'Bento Batch 🍱',\\n    url: 'https://x.com/bentobatch',\\n  },\\n  protocols: [],\\n  attributes: [],\\n  networkId: 8453,\\n  atomic: true,\\n  renderExpiry: undefined,\\n  inputs: [], // no inputs\\n  previewTx: [\\n    {\\n      name: 'Transfer',\\n      description: 'USDC to recipient',\\n      to: '0x69F1CDa80d4b9De5fC084938037a34caA480e2d0',\\n    },\\n    {\\n      name: 'Transfer',\\n      description: 'USDC to recipient',\\n      to: '0x1230b1F9B5eDBd8dD082aEC42188686D546b9d5c',\\n    },\\n  ],\\n  supportedWalletTypes: [WalletType.AA, WalletType.EOA],\\n  render: async (context: Context) => {\\n    const txs: Tx[] = []\\n\\n    const userAddress = context.account.address\\n    if (!userAddress) throw new AddressNotFoundError()\\n\\n    // const inputs = context.inputs as string[] // Omitted for no inputs\\n    const inputs = [\\n      '1',\\n      '0x69F1CDa80d4b9De5fC084938037a34caA480e2d0, 0x1230b1F9B5eDBd8dD082aEC42188686D546b9d5c',\\n    ]\\n    const amount = parseUnits(inputs[0], tokenConfig.decimals)\\n    const addresses = inputs[1]\\n      .split(',')\\n      .filter((address) => address)\\n      .map((address) => {\\n        const trimmedAddress = address.trim()\\n        if (!isAddress(trimmedAddress)) {\\n          throw Error('Recipients contain invalid address(es)')\\n        }\\n        return trimmedAddress\\n      })\\n\\n    if (addresses.length > 30) {\\n      throw Error('The recipients exceeds the limit of 30')\\n    }\\n\\n    const totalAmount = amount * BigInt(addresses.length)\\n    const userBalance = await balanceOf({\\n      chain: context.chain,\\n      userAddress: userAddress,\\n      tokenAddress: tokenConfig.addr,\\n    })\\n    if (totalAmount > userBalance) {\\n      throw Error(\\n        `Insufficient balance: need ${formatUnits(totalAmount, tokenConfig.decimals)} ${tokenConfig.symbol} in total`\\n      )\\n    }\\n\\n    addresses.forEach((address) => {\\n      txs.push({\\n        name: 'Transfer',\\n        description: `${inputs[0]} ${tokenConfig.symbol} to ${address}`,\\n        to: tokenConfig.addr,\\n        value: 0n,\\n        data: encodeFunctionData({\\n          abi: erc20Abi,\\n          functionName: 'transfer',\\n          args: [\\n            address, // recipient\\n            amount, // amount\\n          ],\\n        }),\\n        abi: erc20Abi as Abi,\\n      })\\n    })\\n\\n    return txs\\n  },\\n}\\n\\nexport default multiSenderUsdc\\n```\\n```\""
      ]
     },
     "execution_count": 12,
     "metadata": {},
     "output_type": "execute_result"
    }
   ],
   "source": [
    "ask(\n",
    "    \"I want to send 1 USDC equally on Base to 2 addresses: '0x69F1CDa80d4b9De5fC084938037a34caA480e2d0' and '0x1230b1F9B5eDBd8dD082aEC42188686D546b9d5c'\"\n",
    ")"
   ]
  }
 ],
 "metadata": {
  "kernelspec": {
   "display_name": "env",
   "language": "python",
   "name": "python3"
  },
  "language_info": {
   "codemirror_mode": {
    "name": "ipython",
    "version": 3
   },
   "file_extension": ".py",
   "mimetype": "text/x-python",
   "name": "python",
   "nbconvert_exporter": "python",
   "pygments_lexer": "ipython3",
   "version": "3.12.3"
  }
 },
 "nbformat": 4,
 "nbformat_minor": 2
}
